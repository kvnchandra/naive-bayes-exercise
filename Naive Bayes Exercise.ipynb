{
 "cells": [
  {
   "cell_type": "code",
   "execution_count": 1,
   "metadata": {},
   "outputs": [],
   "source": [
    "import numpy as np\n",
    "import pandas as pd"
   ]
  },
  {
   "cell_type": "code",
   "execution_count": 2,
   "metadata": {},
   "outputs": [],
   "source": [
    "df_data = pd.DataFrame(data = [['<=30', 'high', 'no', 'fair', 'no'],\n",
    "                              ['<=30', 'high', 'no', 'excellent', 'no'],\n",
    "                              ['31-40', 'high', 'no', 'fair', 'yes'],\n",
    "                              ['>40', 'medium', 'no', 'fair', 'yes'],\n",
    "                              ['>40', 'low', 'yes', 'fair', 'yes'],\n",
    "                              ['>40', 'low', 'yes', 'excellent', 'no'],\n",
    "                              ['31-40', 'low', 'yes', 'excellent', 'yes'],\n",
    "                              ['<=30', 'medium', 'no', 'fair', 'no'],\n",
    "                              ['<=30', 'low', 'yes', 'fair', 'yes'],\n",
    "                              ['>40', 'medium', 'yes', 'fair', 'yes'],\n",
    "                              ['<=30', 'medium', 'yes', 'excellent', 'yes'],\n",
    "                              ['31-40', 'medium', 'no', 'excellent', 'yes'],\n",
    "                              ['31-40', 'high', 'yes', 'fair', 'yes'],\n",
    "                              ['>40', 'medium', 'no', 'excellent', 'no']],\n",
    "                      columns=['age', 'income', 'student', 'credit_rating', 'buys_computer'])"
   ]
  },
  {
   "cell_type": "code",
   "execution_count": 3,
   "metadata": {},
   "outputs": [
    {
     "data": {
      "text/html": [
       "<div>\n",
       "<style scoped>\n",
       "    .dataframe tbody tr th:only-of-type {\n",
       "        vertical-align: middle;\n",
       "    }\n",
       "\n",
       "    .dataframe tbody tr th {\n",
       "        vertical-align: top;\n",
       "    }\n",
       "\n",
       "    .dataframe thead th {\n",
       "        text-align: right;\n",
       "    }\n",
       "</style>\n",
       "<table border=\"1\" class=\"dataframe\">\n",
       "  <thead>\n",
       "    <tr style=\"text-align: right;\">\n",
       "      <th></th>\n",
       "      <th>age</th>\n",
       "      <th>income</th>\n",
       "      <th>student</th>\n",
       "      <th>credit_rating</th>\n",
       "      <th>buys_computer</th>\n",
       "    </tr>\n",
       "  </thead>\n",
       "  <tbody>\n",
       "    <tr>\n",
       "      <th>0</th>\n",
       "      <td>&lt;=30</td>\n",
       "      <td>high</td>\n",
       "      <td>no</td>\n",
       "      <td>fair</td>\n",
       "      <td>no</td>\n",
       "    </tr>\n",
       "    <tr>\n",
       "      <th>1</th>\n",
       "      <td>&lt;=30</td>\n",
       "      <td>high</td>\n",
       "      <td>no</td>\n",
       "      <td>excellent</td>\n",
       "      <td>no</td>\n",
       "    </tr>\n",
       "    <tr>\n",
       "      <th>2</th>\n",
       "      <td>31-40</td>\n",
       "      <td>high</td>\n",
       "      <td>no</td>\n",
       "      <td>fair</td>\n",
       "      <td>yes</td>\n",
       "    </tr>\n",
       "    <tr>\n",
       "      <th>3</th>\n",
       "      <td>&gt;40</td>\n",
       "      <td>medium</td>\n",
       "      <td>no</td>\n",
       "      <td>fair</td>\n",
       "      <td>yes</td>\n",
       "    </tr>\n",
       "    <tr>\n",
       "      <th>4</th>\n",
       "      <td>&gt;40</td>\n",
       "      <td>low</td>\n",
       "      <td>yes</td>\n",
       "      <td>fair</td>\n",
       "      <td>yes</td>\n",
       "    </tr>\n",
       "    <tr>\n",
       "      <th>5</th>\n",
       "      <td>&gt;40</td>\n",
       "      <td>low</td>\n",
       "      <td>yes</td>\n",
       "      <td>excellent</td>\n",
       "      <td>no</td>\n",
       "    </tr>\n",
       "    <tr>\n",
       "      <th>6</th>\n",
       "      <td>31-40</td>\n",
       "      <td>low</td>\n",
       "      <td>yes</td>\n",
       "      <td>excellent</td>\n",
       "      <td>yes</td>\n",
       "    </tr>\n",
       "    <tr>\n",
       "      <th>7</th>\n",
       "      <td>&lt;=30</td>\n",
       "      <td>medium</td>\n",
       "      <td>no</td>\n",
       "      <td>fair</td>\n",
       "      <td>no</td>\n",
       "    </tr>\n",
       "    <tr>\n",
       "      <th>8</th>\n",
       "      <td>&lt;=30</td>\n",
       "      <td>low</td>\n",
       "      <td>yes</td>\n",
       "      <td>fair</td>\n",
       "      <td>yes</td>\n",
       "    </tr>\n",
       "    <tr>\n",
       "      <th>9</th>\n",
       "      <td>&gt;40</td>\n",
       "      <td>medium</td>\n",
       "      <td>yes</td>\n",
       "      <td>fair</td>\n",
       "      <td>yes</td>\n",
       "    </tr>\n",
       "    <tr>\n",
       "      <th>10</th>\n",
       "      <td>&lt;=30</td>\n",
       "      <td>medium</td>\n",
       "      <td>yes</td>\n",
       "      <td>excellent</td>\n",
       "      <td>yes</td>\n",
       "    </tr>\n",
       "    <tr>\n",
       "      <th>11</th>\n",
       "      <td>31-40</td>\n",
       "      <td>medium</td>\n",
       "      <td>no</td>\n",
       "      <td>excellent</td>\n",
       "      <td>yes</td>\n",
       "    </tr>\n",
       "    <tr>\n",
       "      <th>12</th>\n",
       "      <td>31-40</td>\n",
       "      <td>high</td>\n",
       "      <td>yes</td>\n",
       "      <td>fair</td>\n",
       "      <td>yes</td>\n",
       "    </tr>\n",
       "    <tr>\n",
       "      <th>13</th>\n",
       "      <td>&gt;40</td>\n",
       "      <td>medium</td>\n",
       "      <td>no</td>\n",
       "      <td>excellent</td>\n",
       "      <td>no</td>\n",
       "    </tr>\n",
       "  </tbody>\n",
       "</table>\n",
       "</div>"
      ],
      "text/plain": [
       "      age  income student credit_rating buys_computer\n",
       "0    <=30    high      no          fair            no\n",
       "1    <=30    high      no     excellent            no\n",
       "2   31-40    high      no          fair           yes\n",
       "3     >40  medium      no          fair           yes\n",
       "4     >40     low     yes          fair           yes\n",
       "5     >40     low     yes     excellent            no\n",
       "6   31-40     low     yes     excellent           yes\n",
       "7    <=30  medium      no          fair            no\n",
       "8    <=30     low     yes          fair           yes\n",
       "9     >40  medium     yes          fair           yes\n",
       "10   <=30  medium     yes     excellent           yes\n",
       "11  31-40  medium      no     excellent           yes\n",
       "12  31-40    high     yes          fair           yes\n",
       "13    >40  medium      no     excellent            no"
      ]
     },
     "execution_count": 3,
     "metadata": {},
     "output_type": "execute_result"
    }
   ],
   "source": [
    "df_data"
   ]
  },
  {
   "cell_type": "code",
   "execution_count": 4,
   "metadata": {},
   "outputs": [],
   "source": [
    "# input test data\n",
    "\n",
    "X = {'age' : '31-40',\n",
    "    'income' : 'low',\n",
    "    'student' : 'yes',\n",
    "    'credit_rating' : 'fair'}"
   ]
  },
  {
   "cell_type": "code",
   "execution_count": 5,
   "metadata": {},
   "outputs": [
    {
     "data": {
      "text/plain": [
       "array(['no', 'yes'], dtype=object)"
      ]
     },
     "execution_count": 5,
     "metadata": {},
     "output_type": "execute_result"
    }
   ],
   "source": [
    "# get unique value in buys_computer column\n",
    "\n",
    "target_unique = df_data['buys_computer'].unique()\n",
    "\n",
    "target_unique"
   ]
  },
  {
   "cell_type": "code",
   "execution_count": 6,
   "metadata": {},
   "outputs": [
    {
     "data": {
      "text/plain": [
       "{'no': 5, 'yes': 9}"
      ]
     },
     "execution_count": 6,
     "metadata": {},
     "output_type": "execute_result"
    }
   ],
   "source": [
    "# count for every value in target_unique\n",
    "\n",
    "target_count = {}\n",
    "buys_computer_list = df_data['buys_computer'].tolist()\n",
    "\n",
    "for i in target_unique :\n",
    "    target_count[i] = buys_computer_list.count(i)\n",
    "    \n",
    "target_count"
   ]
  },
  {
   "cell_type": "code",
   "execution_count": 7,
   "metadata": {},
   "outputs": [
    {
     "data": {
      "text/plain": [
       "{'no': 0.35714285714285715, 'yes': 0.6428571428571429}"
      ]
     },
     "execution_count": 7,
     "metadata": {},
     "output_type": "execute_result"
    }
   ],
   "source": [
    "# calculate P(Ci)\n",
    "\n",
    "prior = {}\n",
    "\n",
    "for key in target_count :\n",
    "    prob = target_count[key] / len(df_data)\n",
    "    prior[key] = prob\n",
    "    \n",
    "prior"
   ]
  },
  {
   "cell_type": "code",
   "execution_count": 8,
   "metadata": {},
   "outputs": [
    {
     "data": {
      "text/plain": [
       "{'age : 31-40|no': 0.125,\n",
       " 'age : 31-40|yes': 0.4166666666666667,\n",
       " 'income : low|no': 0.2,\n",
       " 'income : low|yes': 0.3333333333333333,\n",
       " 'student : yes|no': 0.2,\n",
       " 'student : yes|yes': 0.6666666666666666,\n",
       " 'credit_rating : fair|no': 0.4,\n",
       " 'credit_rating : fair|yes': 0.6666666666666666}"
      ]
     },
     "execution_count": 8,
     "metadata": {},
     "output_type": "execute_result"
    }
   ],
   "source": [
    "# calculate P(X|Ci) for every X\n",
    "\n",
    "likelihood = {}\n",
    "\n",
    "for key in X:\n",
    "    \n",
    "    # look for zero probability\n",
    "    zero_prob = False\n",
    "    for j in target_unique :\n",
    "        val = df_data[key][df_data['buys_computer']==j].tolist().count(X[key])\n",
    "        if val == 0:\n",
    "            zero_prob = True\n",
    "            break\n",
    "    \n",
    "    for j in target_unique :\n",
    "        val = df_data[key][df_data['buys_computer']==j].tolist().count(X[key])    \n",
    "        if zero_prob :\n",
    "            likelihood[key + ' : ' + X[key] + '|' + j] = (val+1)/(target_count[j] + len(df_data[key].unique()))\n",
    "        else :\n",
    "            likelihood[key + ' : ' + X[key] + '|' + j] = val/target_count[j]\n",
    "        \n",
    "likelihood"
   ]
  },
  {
   "cell_type": "code",
   "execution_count": 9,
   "metadata": {},
   "outputs": [
    {
     "data": {
      "text/plain": [
       "{'X|no': 0.0020000000000000005, 'X|yes': 0.06172839506172839}"
      ]
     },
     "execution_count": 9,
     "metadata": {},
     "output_type": "execute_result"
    }
   ],
   "source": [
    "# calculate overall P(X|Ci)\n",
    "\n",
    "overall_likelihood = {'X|no' : 1,\n",
    "                      'X|yes' : 1}\n",
    "\n",
    "for key in likelihood:\n",
    "    \n",
    "    if '|no' in key:\n",
    "        overall_likelihood['X|no'] *= likelihood[key]\n",
    "\n",
    "    elif '|yes' in key:\n",
    "        overall_likelihood['X|yes'] *= likelihood[key]\n",
    "        \n",
    "overall_likelihood"
   ]
  },
  {
   "cell_type": "code",
   "execution_count": 10,
   "metadata": {},
   "outputs": [
    {
     "data": {
      "text/plain": [
       "{'no': 0.0007142857142857145, 'yes': 0.03968253968253968}"
      ]
     },
     "execution_count": 10,
     "metadata": {},
     "output_type": "execute_result"
    }
   ],
   "source": [
    "# get P(Ci|X)\n",
    "\n",
    "posterior = {}\n",
    "\n",
    "for key in overall_likelihood:\n",
    "    for target in target_unique:\n",
    "        if target in key : \n",
    "            posterior[target] = overall_likelihood[key] * prior[target]\n",
    "        else:\n",
    "            continue\n",
    "\n",
    "posterior"
   ]
  },
  {
   "cell_type": "code",
   "execution_count": 11,
   "metadata": {},
   "outputs": [
    {
     "name": "stdout",
     "output_type": "stream",
     "text": [
      "Prediksi hasil Naive Bayes adalah YES\n"
     ]
    }
   ],
   "source": [
    "pred_target = max(posterior)\n",
    "\n",
    "print('Prediksi hasil Naive Bayes adalah ' + pred_target.upper())"
   ]
  },
  {
   "cell_type": "code",
   "execution_count": null,
   "metadata": {},
   "outputs": [],
   "source": []
  },
  {
   "cell_type": "code",
   "execution_count": null,
   "metadata": {},
   "outputs": [],
   "source": []
  },
  {
   "cell_type": "code",
   "execution_count": null,
   "metadata": {},
   "outputs": [],
   "source": []
  }
 ],
 "metadata": {
  "kernelspec": {
   "display_name": "Python 3",
   "language": "python",
   "name": "python3"
  },
  "language_info": {
   "codemirror_mode": {
    "name": "ipython",
    "version": 3
   },
   "file_extension": ".py",
   "mimetype": "text/x-python",
   "name": "python",
   "nbconvert_exporter": "python",
   "pygments_lexer": "ipython3",
   "version": "3.7.0"
  }
 },
 "nbformat": 4,
 "nbformat_minor": 2
}
